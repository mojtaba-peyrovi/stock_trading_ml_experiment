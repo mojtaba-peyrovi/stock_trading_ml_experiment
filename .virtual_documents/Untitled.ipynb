## Candle stick example


import yfinance as yf
import mplfinance as mpf
import pandas as pd
import matplotlib.pyplot as plt



symbol = "NVDA"
start = "2023-05-27"
end = "2023-08-27"
data = yf.download(symbol, start=start, end=end)





mpf.plot(data, volume=True, type='candle', title=symbol + "Candlestick Chart")


! conda install -c conda-forge ta-lib



import talib





import plotly.graph_objs as go

data=[go.Candlestick(x=data['Date'],
                open=data['Open'],
                high=data['High'],
                low=data['Low'],
                close=data['Close'])]
				
				
figSignal = go.Figure(data=data)
figSignal.show()






