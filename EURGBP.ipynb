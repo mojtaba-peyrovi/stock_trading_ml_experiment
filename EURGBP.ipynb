{
 "cells": [
  {
   "cell_type": "code",
   "execution_count": 1,
   "metadata": {
    "tags": []
   },
   "outputs": [],
   "source": [
    "import tensorflow as tf\n",
    "import numpy as np\n",
    "import matplotlib.pyplot as plt\n",
    "from datetime import datetime\n",
    "import pandas as pd\n",
    "%matplotlib inline\n",
    "from get_forex_data import get_daily_data, get_small_frequencies\n",
    "\n",
    "from plot import plot_basic_close, pred_vs_real_plot"
   ]
  },
  {
   "cell_type": "code",
   "execution_count": 2,
   "metadata": {
    "tags": []
   },
   "outputs": [],
   "source": [
    "import yfinance as yf\n",
    "yf.pdr_override()"
   ]
  },
  {
   "cell_type": "code",
   "execution_count": 4,
   "metadata": {
    "tags": []
   },
   "outputs": [],
   "source": [
    "PAIR = 'EURGBP'\n",
    "START = '2022-01-01'\n",
    "END = '2023-09-16'"
   ]
  },
  {
   "cell_type": "code",
   "execution_count": 64,
   "metadata": {
    "tags": []
   },
   "outputs": [
    {
     "name": "stdout",
     "output_type": "stream",
     "text": [
      "[*********************100%%**********************]  1 of 1 completed\n"
     ]
    },
    {
     "data": {
      "text/html": [
       "<div>\n",
       "<style scoped>\n",
       "    .dataframe tbody tr th:only-of-type {\n",
       "        vertical-align: middle;\n",
       "    }\n",
       "\n",
       "    .dataframe tbody tr th {\n",
       "        vertical-align: top;\n",
       "    }\n",
       "\n",
       "    .dataframe thead th {\n",
       "        text-align: right;\n",
       "    }\n",
       "</style>\n",
       "<table border=\"1\" class=\"dataframe\">\n",
       "  <thead>\n",
       "    <tr style=\"text-align: right;\">\n",
       "      <th></th>\n",
       "      <th>Datetime</th>\n",
       "      <th>Open</th>\n",
       "      <th>High</th>\n",
       "      <th>Low</th>\n",
       "      <th>Close</th>\n",
       "      <th>Adj Close</th>\n",
       "      <th>Volume</th>\n",
       "    </tr>\n",
       "  </thead>\n",
       "  <tbody>\n",
       "    <tr>\n",
       "      <th>18</th>\n",
       "      <td>2023-09-15 18:00:00+01:00</td>\n",
       "      <td>0.86068</td>\n",
       "      <td>0.86120</td>\n",
       "      <td>0.86054</td>\n",
       "      <td>0.86104</td>\n",
       "      <td>0.86104</td>\n",
       "      <td>0</td>\n",
       "    </tr>\n",
       "    <tr>\n",
       "      <th>19</th>\n",
       "      <td>2023-09-15 19:00:00+01:00</td>\n",
       "      <td>0.86103</td>\n",
       "      <td>0.86130</td>\n",
       "      <td>0.86063</td>\n",
       "      <td>0.86095</td>\n",
       "      <td>0.86095</td>\n",
       "      <td>0</td>\n",
       "    </tr>\n",
       "    <tr>\n",
       "      <th>20</th>\n",
       "      <td>2023-09-15 20:00:00+01:00</td>\n",
       "      <td>0.86096</td>\n",
       "      <td>0.86114</td>\n",
       "      <td>0.86066</td>\n",
       "      <td>0.86072</td>\n",
       "      <td>0.86072</td>\n",
       "      <td>0</td>\n",
       "    </tr>\n",
       "    <tr>\n",
       "      <th>21</th>\n",
       "      <td>2023-09-15 21:00:00+01:00</td>\n",
       "      <td>0.86072</td>\n",
       "      <td>0.86111</td>\n",
       "      <td>0.86029</td>\n",
       "      <td>0.86063</td>\n",
       "      <td>0.86063</td>\n",
       "      <td>0</td>\n",
       "    </tr>\n",
       "    <tr>\n",
       "      <th>22</th>\n",
       "      <td>2023-09-15 22:00:00+01:00</td>\n",
       "      <td>0.86053</td>\n",
       "      <td>0.86093</td>\n",
       "      <td>0.86053</td>\n",
       "      <td>0.86093</td>\n",
       "      <td>0.86093</td>\n",
       "      <td>0</td>\n",
       "    </tr>\n",
       "  </tbody>\n",
       "</table>\n",
       "</div>"
      ],
      "text/plain": [
       "                    Datetime     Open     High      Low    Close  Adj Close  \\\n",
       "18 2023-09-15 18:00:00+01:00  0.86068  0.86120  0.86054  0.86104    0.86104   \n",
       "19 2023-09-15 19:00:00+01:00  0.86103  0.86130  0.86063  0.86095    0.86095   \n",
       "20 2023-09-15 20:00:00+01:00  0.86096  0.86114  0.86066  0.86072    0.86072   \n",
       "21 2023-09-15 21:00:00+01:00  0.86072  0.86111  0.86029  0.86063    0.86063   \n",
       "22 2023-09-15 22:00:00+01:00  0.86053  0.86093  0.86053  0.86093    0.86093   \n",
       "\n",
       "    Volume  \n",
       "18       0  \n",
       "19       0  \n",
       "20       0  \n",
       "21       0  \n",
       "22       0  "
      ]
     },
     "execution_count": 64,
     "metadata": {},
     "output_type": "execute_result"
    }
   ],
   "source": [
    "df_hourly = get_small_frequencies(PAIR, period='120', interval='1h')\n",
    "df_hourly = df_hourly.reset_index()\n",
    "df_hourly.tail()"
   ]
  },
  {
   "cell_type": "code",
   "execution_count": null,
   "metadata": {
    "tags": []
   },
   "outputs": [],
   "source": []
  },
  {
   "cell_type": "code",
   "execution_count": null,
   "metadata": {
    "tags": []
   },
   "outputs": [],
   "source": []
  },
  {
   "cell_type": "code",
   "execution_count": null,
   "metadata": {
    "tags": []
   },
   "outputs": [],
   "source": []
  },
  {
   "cell_type": "markdown",
   "metadata": {},
   "source": [
    "### Create date & time from timestamp"
   ]
  },
  {
   "cell_type": "code",
   "execution_count": 65,
   "metadata": {
    "tags": []
   },
   "outputs": [],
   "source": [
    "df_hourly['date'] = df_hourly.Datetime.apply(lambda x: x.date())\n",
    "df_hourly['time'] = df_hourly.Datetime.apply(lambda x: x.time())"
   ]
  },
  {
   "cell_type": "code",
   "execution_count": 66,
   "metadata": {
    "tags": []
   },
   "outputs": [],
   "source": [
    "df_hourly.drop('Datetime', axis=1, inplace=True)\n",
    "\n"
   ]
  },
  {
   "cell_type": "code",
   "execution_count": 67,
   "metadata": {
    "tags": []
   },
   "outputs": [
    {
     "data": {
      "text/html": [
       "<div>\n",
       "<style scoped>\n",
       "    .dataframe tbody tr th:only-of-type {\n",
       "        vertical-align: middle;\n",
       "    }\n",
       "\n",
       "    .dataframe tbody tr th {\n",
       "        vertical-align: top;\n",
       "    }\n",
       "\n",
       "    .dataframe thead th {\n",
       "        text-align: right;\n",
       "    }\n",
       "</style>\n",
       "<table border=\"1\" class=\"dataframe\">\n",
       "  <thead>\n",
       "    <tr style=\"text-align: right;\">\n",
       "      <th></th>\n",
       "      <th>Open</th>\n",
       "      <th>High</th>\n",
       "      <th>Low</th>\n",
       "      <th>Close</th>\n",
       "      <th>Adj Close</th>\n",
       "      <th>Volume</th>\n",
       "      <th>date</th>\n",
       "      <th>time</th>\n",
       "    </tr>\n",
       "  </thead>\n",
       "  <tbody>\n",
       "    <tr>\n",
       "      <th>0</th>\n",
       "      <td>0.85761</td>\n",
       "      <td>0.85770</td>\n",
       "      <td>0.85740</td>\n",
       "      <td>0.85757</td>\n",
       "      <td>0.85757</td>\n",
       "      <td>0</td>\n",
       "      <td>2023-09-15</td>\n",
       "      <td>00:00:00</td>\n",
       "    </tr>\n",
       "    <tr>\n",
       "      <th>1</th>\n",
       "      <td>0.85758</td>\n",
       "      <td>0.85770</td>\n",
       "      <td>0.85737</td>\n",
       "      <td>0.85740</td>\n",
       "      <td>0.85740</td>\n",
       "      <td>0</td>\n",
       "      <td>2023-09-15</td>\n",
       "      <td>01:00:00</td>\n",
       "    </tr>\n",
       "    <tr>\n",
       "      <th>2</th>\n",
       "      <td>0.85742</td>\n",
       "      <td>0.85750</td>\n",
       "      <td>0.85706</td>\n",
       "      <td>0.85714</td>\n",
       "      <td>0.85714</td>\n",
       "      <td>0</td>\n",
       "      <td>2023-09-15</td>\n",
       "      <td>02:00:00</td>\n",
       "    </tr>\n",
       "    <tr>\n",
       "      <th>3</th>\n",
       "      <td>0.85717</td>\n",
       "      <td>0.85735</td>\n",
       "      <td>0.85687</td>\n",
       "      <td>0.85696</td>\n",
       "      <td>0.85696</td>\n",
       "      <td>0</td>\n",
       "      <td>2023-09-15</td>\n",
       "      <td>03:00:00</td>\n",
       "    </tr>\n",
       "    <tr>\n",
       "      <th>4</th>\n",
       "      <td>0.85697</td>\n",
       "      <td>0.85730</td>\n",
       "      <td>0.85695</td>\n",
       "      <td>0.85709</td>\n",
       "      <td>0.85709</td>\n",
       "      <td>0</td>\n",
       "      <td>2023-09-15</td>\n",
       "      <td>04:00:00</td>\n",
       "    </tr>\n",
       "    <tr>\n",
       "      <th>5</th>\n",
       "      <td>0.85712</td>\n",
       "      <td>0.85716</td>\n",
       "      <td>0.85693</td>\n",
       "      <td>0.85710</td>\n",
       "      <td>0.85710</td>\n",
       "      <td>0</td>\n",
       "      <td>2023-09-15</td>\n",
       "      <td>05:00:00</td>\n",
       "    </tr>\n",
       "    <tr>\n",
       "      <th>6</th>\n",
       "      <td>0.85713</td>\n",
       "      <td>0.85740</td>\n",
       "      <td>0.85704</td>\n",
       "      <td>0.85738</td>\n",
       "      <td>0.85738</td>\n",
       "      <td>0</td>\n",
       "      <td>2023-09-15</td>\n",
       "      <td>06:00:00</td>\n",
       "    </tr>\n",
       "    <tr>\n",
       "      <th>7</th>\n",
       "      <td>0.85737</td>\n",
       "      <td>0.85821</td>\n",
       "      <td>0.85731</td>\n",
       "      <td>0.85783</td>\n",
       "      <td>0.85783</td>\n",
       "      <td>0</td>\n",
       "      <td>2023-09-15</td>\n",
       "      <td>07:00:00</td>\n",
       "    </tr>\n",
       "    <tr>\n",
       "      <th>8</th>\n",
       "      <td>0.85787</td>\n",
       "      <td>0.85810</td>\n",
       "      <td>0.85720</td>\n",
       "      <td>0.85748</td>\n",
       "      <td>0.85748</td>\n",
       "      <td>0</td>\n",
       "      <td>2023-09-15</td>\n",
       "      <td>08:00:00</td>\n",
       "    </tr>\n",
       "    <tr>\n",
       "      <th>9</th>\n",
       "      <td>0.85746</td>\n",
       "      <td>0.85784</td>\n",
       "      <td>0.85700</td>\n",
       "      <td>0.85733</td>\n",
       "      <td>0.85733</td>\n",
       "      <td>0</td>\n",
       "      <td>2023-09-15</td>\n",
       "      <td>09:00:00</td>\n",
       "    </tr>\n",
       "    <tr>\n",
       "      <th>10</th>\n",
       "      <td>0.85733</td>\n",
       "      <td>0.85781</td>\n",
       "      <td>0.85720</td>\n",
       "      <td>0.85775</td>\n",
       "      <td>0.85775</td>\n",
       "      <td>0</td>\n",
       "      <td>2023-09-15</td>\n",
       "      <td>10:00:00</td>\n",
       "    </tr>\n",
       "    <tr>\n",
       "      <th>11</th>\n",
       "      <td>0.85775</td>\n",
       "      <td>0.85875</td>\n",
       "      <td>0.85775</td>\n",
       "      <td>0.85842</td>\n",
       "      <td>0.85842</td>\n",
       "      <td>0</td>\n",
       "      <td>2023-09-15</td>\n",
       "      <td>11:00:00</td>\n",
       "    </tr>\n",
       "    <tr>\n",
       "      <th>12</th>\n",
       "      <td>0.85842</td>\n",
       "      <td>0.85930</td>\n",
       "      <td>0.85825</td>\n",
       "      <td>0.85874</td>\n",
       "      <td>0.85874</td>\n",
       "      <td>0</td>\n",
       "      <td>2023-09-15</td>\n",
       "      <td>12:00:00</td>\n",
       "    </tr>\n",
       "    <tr>\n",
       "      <th>13</th>\n",
       "      <td>0.85874</td>\n",
       "      <td>0.85953</td>\n",
       "      <td>0.85860</td>\n",
       "      <td>0.85951</td>\n",
       "      <td>0.85951</td>\n",
       "      <td>0</td>\n",
       "      <td>2023-09-15</td>\n",
       "      <td>13:00:00</td>\n",
       "    </tr>\n",
       "    <tr>\n",
       "      <th>14</th>\n",
       "      <td>0.85952</td>\n",
       "      <td>0.86019</td>\n",
       "      <td>0.85917</td>\n",
       "      <td>0.86018</td>\n",
       "      <td>0.86018</td>\n",
       "      <td>0</td>\n",
       "      <td>2023-09-15</td>\n",
       "      <td>14:00:00</td>\n",
       "    </tr>\n",
       "    <tr>\n",
       "      <th>15</th>\n",
       "      <td>0.86026</td>\n",
       "      <td>0.86062</td>\n",
       "      <td>0.85958</td>\n",
       "      <td>0.86037</td>\n",
       "      <td>0.86037</td>\n",
       "      <td>0</td>\n",
       "      <td>2023-09-15</td>\n",
       "      <td>15:00:00</td>\n",
       "    </tr>\n",
       "    <tr>\n",
       "      <th>16</th>\n",
       "      <td>0.86037</td>\n",
       "      <td>0.86145</td>\n",
       "      <td>0.86027</td>\n",
       "      <td>0.86140</td>\n",
       "      <td>0.86140</td>\n",
       "      <td>0</td>\n",
       "      <td>2023-09-15</td>\n",
       "      <td>16:00:00</td>\n",
       "    </tr>\n",
       "    <tr>\n",
       "      <th>17</th>\n",
       "      <td>0.86140</td>\n",
       "      <td>0.86160</td>\n",
       "      <td>0.86051</td>\n",
       "      <td>0.86067</td>\n",
       "      <td>0.86067</td>\n",
       "      <td>0</td>\n",
       "      <td>2023-09-15</td>\n",
       "      <td>17:00:00</td>\n",
       "    </tr>\n",
       "    <tr>\n",
       "      <th>18</th>\n",
       "      <td>0.86068</td>\n",
       "      <td>0.86120</td>\n",
       "      <td>0.86054</td>\n",
       "      <td>0.86104</td>\n",
       "      <td>0.86104</td>\n",
       "      <td>0</td>\n",
       "      <td>2023-09-15</td>\n",
       "      <td>18:00:00</td>\n",
       "    </tr>\n",
       "    <tr>\n",
       "      <th>19</th>\n",
       "      <td>0.86103</td>\n",
       "      <td>0.86130</td>\n",
       "      <td>0.86063</td>\n",
       "      <td>0.86095</td>\n",
       "      <td>0.86095</td>\n",
       "      <td>0</td>\n",
       "      <td>2023-09-15</td>\n",
       "      <td>19:00:00</td>\n",
       "    </tr>\n",
       "    <tr>\n",
       "      <th>20</th>\n",
       "      <td>0.86096</td>\n",
       "      <td>0.86114</td>\n",
       "      <td>0.86066</td>\n",
       "      <td>0.86072</td>\n",
       "      <td>0.86072</td>\n",
       "      <td>0</td>\n",
       "      <td>2023-09-15</td>\n",
       "      <td>20:00:00</td>\n",
       "    </tr>\n",
       "    <tr>\n",
       "      <th>21</th>\n",
       "      <td>0.86072</td>\n",
       "      <td>0.86111</td>\n",
       "      <td>0.86029</td>\n",
       "      <td>0.86063</td>\n",
       "      <td>0.86063</td>\n",
       "      <td>0</td>\n",
       "      <td>2023-09-15</td>\n",
       "      <td>21:00:00</td>\n",
       "    </tr>\n",
       "    <tr>\n",
       "      <th>22</th>\n",
       "      <td>0.86053</td>\n",
       "      <td>0.86093</td>\n",
       "      <td>0.86053</td>\n",
       "      <td>0.86093</td>\n",
       "      <td>0.86093</td>\n",
       "      <td>0</td>\n",
       "      <td>2023-09-15</td>\n",
       "      <td>22:00:00</td>\n",
       "    </tr>\n",
       "  </tbody>\n",
       "</table>\n",
       "</div>"
      ],
      "text/plain": [
       "       Open     High      Low    Close  Adj Close  Volume        date  \\\n",
       "0   0.85761  0.85770  0.85740  0.85757    0.85757       0  2023-09-15   \n",
       "1   0.85758  0.85770  0.85737  0.85740    0.85740       0  2023-09-15   \n",
       "2   0.85742  0.85750  0.85706  0.85714    0.85714       0  2023-09-15   \n",
       "3   0.85717  0.85735  0.85687  0.85696    0.85696       0  2023-09-15   \n",
       "4   0.85697  0.85730  0.85695  0.85709    0.85709       0  2023-09-15   \n",
       "5   0.85712  0.85716  0.85693  0.85710    0.85710       0  2023-09-15   \n",
       "6   0.85713  0.85740  0.85704  0.85738    0.85738       0  2023-09-15   \n",
       "7   0.85737  0.85821  0.85731  0.85783    0.85783       0  2023-09-15   \n",
       "8   0.85787  0.85810  0.85720  0.85748    0.85748       0  2023-09-15   \n",
       "9   0.85746  0.85784  0.85700  0.85733    0.85733       0  2023-09-15   \n",
       "10  0.85733  0.85781  0.85720  0.85775    0.85775       0  2023-09-15   \n",
       "11  0.85775  0.85875  0.85775  0.85842    0.85842       0  2023-09-15   \n",
       "12  0.85842  0.85930  0.85825  0.85874    0.85874       0  2023-09-15   \n",
       "13  0.85874  0.85953  0.85860  0.85951    0.85951       0  2023-09-15   \n",
       "14  0.85952  0.86019  0.85917  0.86018    0.86018       0  2023-09-15   \n",
       "15  0.86026  0.86062  0.85958  0.86037    0.86037       0  2023-09-15   \n",
       "16  0.86037  0.86145  0.86027  0.86140    0.86140       0  2023-09-15   \n",
       "17  0.86140  0.86160  0.86051  0.86067    0.86067       0  2023-09-15   \n",
       "18  0.86068  0.86120  0.86054  0.86104    0.86104       0  2023-09-15   \n",
       "19  0.86103  0.86130  0.86063  0.86095    0.86095       0  2023-09-15   \n",
       "20  0.86096  0.86114  0.86066  0.86072    0.86072       0  2023-09-15   \n",
       "21  0.86072  0.86111  0.86029  0.86063    0.86063       0  2023-09-15   \n",
       "22  0.86053  0.86093  0.86053  0.86093    0.86093       0  2023-09-15   \n",
       "\n",
       "        time  \n",
       "0   00:00:00  \n",
       "1   01:00:00  \n",
       "2   02:00:00  \n",
       "3   03:00:00  \n",
       "4   04:00:00  \n",
       "5   05:00:00  \n",
       "6   06:00:00  \n",
       "7   07:00:00  \n",
       "8   08:00:00  \n",
       "9   09:00:00  \n",
       "10  10:00:00  \n",
       "11  11:00:00  \n",
       "12  12:00:00  \n",
       "13  13:00:00  \n",
       "14  14:00:00  \n",
       "15  15:00:00  \n",
       "16  16:00:00  \n",
       "17  17:00:00  \n",
       "18  18:00:00  \n",
       "19  19:00:00  \n",
       "20  20:00:00  \n",
       "21  21:00:00  \n",
       "22  22:00:00  "
      ]
     },
     "execution_count": 67,
     "metadata": {},
     "output_type": "execute_result"
    }
   ],
   "source": [
    "df_hourly.tail(35)"
   ]
  },
  {
   "cell_type": "code",
   "execution_count": 70,
   "metadata": {
    "tags": []
   },
   "outputs": [
    {
     "data": {
      "text/plain": [
       "datetime.date(2023, 9, 15)"
      ]
     },
     "execution_count": 70,
     "metadata": {},
     "output_type": "execute_result"
    }
   ],
   "source": [
    "df_hourly.date.min()"
   ]
  },
  {
   "cell_type": "code",
   "execution_count": 69,
   "metadata": {
    "tags": []
   },
   "outputs": [
    {
     "ename": "KeyError",
     "evalue": "'date'",
     "output_type": "error",
     "traceback": [
      "\u001b[1;31m---------------------------------------------------------------------------\u001b[0m",
      "\u001b[1;31mKeyError\u001b[0m                                  Traceback (most recent call last)",
      "File \u001b[1;32m~\\anaconda3\\envs\\py39\\lib\\site-packages\\pandas\\core\\indexes\\base.py:3803\u001b[0m, in \u001b[0;36mIndex.get_loc\u001b[1;34m(self, key, method, tolerance)\u001b[0m\n\u001b[0;32m   3802\u001b[0m \u001b[38;5;28;01mtry\u001b[39;00m:\n\u001b[1;32m-> 3803\u001b[0m     \u001b[38;5;28;01mreturn\u001b[39;00m \u001b[38;5;28;43mself\u001b[39;49m\u001b[38;5;241;43m.\u001b[39;49m\u001b[43m_engine\u001b[49m\u001b[38;5;241;43m.\u001b[39;49m\u001b[43mget_loc\u001b[49m\u001b[43m(\u001b[49m\u001b[43mcasted_key\u001b[49m\u001b[43m)\u001b[49m\n\u001b[0;32m   3804\u001b[0m \u001b[38;5;28;01mexcept\u001b[39;00m \u001b[38;5;167;01mKeyError\u001b[39;00m \u001b[38;5;28;01mas\u001b[39;00m err:\n",
      "File \u001b[1;32m~\\anaconda3\\envs\\py39\\lib\\site-packages\\pandas\\_libs\\index.pyx:138\u001b[0m, in \u001b[0;36mpandas._libs.index.IndexEngine.get_loc\u001b[1;34m()\u001b[0m\n",
      "File \u001b[1;32m~\\anaconda3\\envs\\py39\\lib\\site-packages\\pandas\\_libs\\index.pyx:165\u001b[0m, in \u001b[0;36mpandas._libs.index.IndexEngine.get_loc\u001b[1;34m()\u001b[0m\n",
      "File \u001b[1;32mpandas\\_libs\\hashtable_class_helper.pxi:5745\u001b[0m, in \u001b[0;36mpandas._libs.hashtable.PyObjectHashTable.get_item\u001b[1;34m()\u001b[0m\n",
      "File \u001b[1;32mpandas\\_libs\\hashtable_class_helper.pxi:5753\u001b[0m, in \u001b[0;36mpandas._libs.hashtable.PyObjectHashTable.get_item\u001b[1;34m()\u001b[0m\n",
      "\u001b[1;31mKeyError\u001b[0m: 'date'",
      "\nThe above exception was the direct cause of the following exception:\n",
      "\u001b[1;31mKeyError\u001b[0m                                  Traceback (most recent call last)",
      "Cell \u001b[1;32mIn[69], line 1\u001b[0m\n\u001b[1;32m----> 1\u001b[0m EURGBP_data_tst \u001b[38;5;241m=\u001b[39m EURGBP_data[\u001b[43mEURGBP_data\u001b[49m\u001b[43m[\u001b[49m\u001b[38;5;124;43m'\u001b[39;49m\u001b[38;5;124;43mdate\u001b[39;49m\u001b[38;5;124;43m'\u001b[39;49m\u001b[43m]\u001b[49m\u001b[38;5;241m==\u001b[39m\u001b[38;5;124m\"\u001b[39m\u001b[38;5;124m2019.10.25\u001b[39m\u001b[38;5;124m\"\u001b[39m]\u001b[38;5;241m.\u001b[39mreset_index()\n",
      "File \u001b[1;32m~\\anaconda3\\envs\\py39\\lib\\site-packages\\pandas\\core\\frame.py:3805\u001b[0m, in \u001b[0;36mDataFrame.__getitem__\u001b[1;34m(self, key)\u001b[0m\n\u001b[0;32m   3803\u001b[0m \u001b[38;5;28;01mif\u001b[39;00m \u001b[38;5;28mself\u001b[39m\u001b[38;5;241m.\u001b[39mcolumns\u001b[38;5;241m.\u001b[39mnlevels \u001b[38;5;241m>\u001b[39m \u001b[38;5;241m1\u001b[39m:\n\u001b[0;32m   3804\u001b[0m     \u001b[38;5;28;01mreturn\u001b[39;00m \u001b[38;5;28mself\u001b[39m\u001b[38;5;241m.\u001b[39m_getitem_multilevel(key)\n\u001b[1;32m-> 3805\u001b[0m indexer \u001b[38;5;241m=\u001b[39m \u001b[38;5;28;43mself\u001b[39;49m\u001b[38;5;241;43m.\u001b[39;49m\u001b[43mcolumns\u001b[49m\u001b[38;5;241;43m.\u001b[39;49m\u001b[43mget_loc\u001b[49m\u001b[43m(\u001b[49m\u001b[43mkey\u001b[49m\u001b[43m)\u001b[49m\n\u001b[0;32m   3806\u001b[0m \u001b[38;5;28;01mif\u001b[39;00m is_integer(indexer):\n\u001b[0;32m   3807\u001b[0m     indexer \u001b[38;5;241m=\u001b[39m [indexer]\n",
      "File \u001b[1;32m~\\anaconda3\\envs\\py39\\lib\\site-packages\\pandas\\core\\indexes\\base.py:3805\u001b[0m, in \u001b[0;36mIndex.get_loc\u001b[1;34m(self, key, method, tolerance)\u001b[0m\n\u001b[0;32m   3803\u001b[0m     \u001b[38;5;28;01mreturn\u001b[39;00m \u001b[38;5;28mself\u001b[39m\u001b[38;5;241m.\u001b[39m_engine\u001b[38;5;241m.\u001b[39mget_loc(casted_key)\n\u001b[0;32m   3804\u001b[0m \u001b[38;5;28;01mexcept\u001b[39;00m \u001b[38;5;167;01mKeyError\u001b[39;00m \u001b[38;5;28;01mas\u001b[39;00m err:\n\u001b[1;32m-> 3805\u001b[0m     \u001b[38;5;28;01mraise\u001b[39;00m \u001b[38;5;167;01mKeyError\u001b[39;00m(key) \u001b[38;5;28;01mfrom\u001b[39;00m \u001b[38;5;21;01merr\u001b[39;00m\n\u001b[0;32m   3806\u001b[0m \u001b[38;5;28;01mexcept\u001b[39;00m \u001b[38;5;167;01mTypeError\u001b[39;00m:\n\u001b[0;32m   3807\u001b[0m     \u001b[38;5;66;03m# If we have a listlike key, _check_indexing_error will raise\u001b[39;00m\n\u001b[0;32m   3808\u001b[0m     \u001b[38;5;66;03m#  InvalidIndexError. Otherwise we fall through and re-raise\u001b[39;00m\n\u001b[0;32m   3809\u001b[0m     \u001b[38;5;66;03m#  the TypeError.\u001b[39;00m\n\u001b[0;32m   3810\u001b[0m     \u001b[38;5;28mself\u001b[39m\u001b[38;5;241m.\u001b[39m_check_indexing_error(key)\n",
      "\u001b[1;31mKeyError\u001b[0m: 'date'"
     ]
    }
   ],
   "source": [
    "EURGBP_data_tst = EURGBP_data[EURGBP_data['date']==\"2019.10.25\"].reset_index()"
   ]
  },
  {
   "cell_type": "code",
   "execution_count": null,
   "metadata": {
    "tags": []
   },
   "outputs": [],
   "source": [
    "EURGBP_data_tst.tail()"
   ]
  },
  {
   "cell_type": "code",
   "execution_count": 78,
   "metadata": {},
   "outputs": [
    {
     "data": {
      "text/plain": [
       "1019"
      ]
     },
     "execution_count": 78,
     "metadata": {},
     "output_type": "execute_result"
    }
   ],
   "source": [
    "len(EURGBP_data_tst)"
   ]
  },
  {
   "cell_type": "code",
   "execution_count": 77,
   "metadata": {},
   "outputs": [
    {
     "data": {
      "text/plain": [
       "[<matplotlib.lines.Line2D at 0x19742408828>]"
      ]
     },
     "execution_count": 77,
     "metadata": {},
     "output_type": "execute_result"
    },
    {
     "data": {
      "image/png": "[encoded data removed]",
      "text/plain": [
       "<Figure size 1008x576 with 1 Axes>"
      ]
     },
     "metadata": {
      "needs_background": "light"
     },
     "output_type": "display_data"
    }
   ],
   "source": [
    "plt.figure(figsize=(14,8))\n",
    "plt.plot(EURGBP_data_tst.time, EURGBP_data_tst.close)"
   ]
  },
  {
   "cell_type": "code",
   "execution_count": 44,
   "metadata": {},
   "outputs": [],
   "source": [
    "EURGBP_data_tst['time_'] = EURGBP_data_tst.index"
   ]
  },
  {
   "cell_type": "code",
   "execution_count": 45,
   "metadata": {},
   "outputs": [],
   "source": [
    "EURGBP_data_tst = EURGBP_data_tst.drop(\"index\", axis=1)"
   ]
  },
  {
   "cell_type": "code",
   "execution_count": 46,
   "metadata": {},
   "outputs": [],
   "source": [
    "EURGBP_data_tst = EURGBP_data_tst.drop(\"time\", axis=1)"
   ]
  },
  {
   "cell_type": "code",
   "execution_count": 47,
   "metadata": {},
   "outputs": [
    {
     "data": {
      "text/html": [
       "<div>\n",
       "<style scoped>\n",
       "    .dataframe tbody tr th:only-of-type {\n",
       "        vertical-align: middle;\n",
       "    }\n",
       "\n",
       "    .dataframe tbody tr th {\n",
       "        vertical-align: top;\n",
       "    }\n",
       "\n",
       "    .dataframe thead th {\n",
       "        text-align: right;\n",
       "    }\n",
       "</style>\n",
       "<table border=\"1\" class=\"dataframe\">\n",
       "  <thead>\n",
       "    <tr style=\"text-align: right;\">\n",
       "      <th></th>\n",
       "      <th>date</th>\n",
       "      <th>open</th>\n",
       "      <th>max</th>\n",
       "      <th>min</th>\n",
       "      <th>close</th>\n",
       "      <th>delta</th>\n",
       "      <th>time_</th>\n",
       "    </tr>\n",
       "  </thead>\n",
       "  <tbody>\n",
       "    <tr>\n",
       "      <th>0</th>\n",
       "      <td>2019.10.01</td>\n",
       "      <td>0.88622</td>\n",
       "      <td>0.88627</td>\n",
       "      <td>0.88622</td>\n",
       "      <td>0.88625</td>\n",
       "      <td>0.00003</td>\n",
       "      <td>0</td>\n",
       "    </tr>\n",
       "    <tr>\n",
       "      <th>1</th>\n",
       "      <td>2019.10.01</td>\n",
       "      <td>0.88624</td>\n",
       "      <td>0.88629</td>\n",
       "      <td>0.88624</td>\n",
       "      <td>0.88626</td>\n",
       "      <td>0.00002</td>\n",
       "      <td>1</td>\n",
       "    </tr>\n",
       "    <tr>\n",
       "      <th>2</th>\n",
       "      <td>2019.10.01</td>\n",
       "      <td>0.88628</td>\n",
       "      <td>0.88634</td>\n",
       "      <td>0.88628</td>\n",
       "      <td>0.88634</td>\n",
       "      <td>0.00006</td>\n",
       "      <td>2</td>\n",
       "    </tr>\n",
       "    <tr>\n",
       "      <th>3</th>\n",
       "      <td>2019.10.01</td>\n",
       "      <td>0.88633</td>\n",
       "      <td>0.88636</td>\n",
       "      <td>0.88630</td>\n",
       "      <td>0.88632</td>\n",
       "      <td>-0.00001</td>\n",
       "      <td>3</td>\n",
       "    </tr>\n",
       "    <tr>\n",
       "      <th>4</th>\n",
       "      <td>2019.10.01</td>\n",
       "      <td>0.88633</td>\n",
       "      <td>0.88634</td>\n",
       "      <td>0.88633</td>\n",
       "      <td>0.88634</td>\n",
       "      <td>0.00001</td>\n",
       "      <td>4</td>\n",
       "    </tr>\n",
       "  </tbody>\n",
       "</table>\n",
       "</div>"
      ],
      "text/plain": [
       "         date     open      max      min    close    delta  time_\n",
       "0  2019.10.01  0.88622  0.88627  0.88622  0.88625  0.00003      0\n",
       "1  2019.10.01  0.88624  0.88629  0.88624  0.88626  0.00002      1\n",
       "2  2019.10.01  0.88628  0.88634  0.88628  0.88634  0.00006      2\n",
       "3  2019.10.01  0.88633  0.88636  0.88630  0.88632 -0.00001      3\n",
       "4  2019.10.01  0.88633  0.88634  0.88633  0.88634  0.00001      4"
      ]
     },
     "execution_count": 47,
     "metadata": {},
     "output_type": "execute_result"
    }
   ],
   "source": [
    "EURGBP_data_tst.head()"
   ]
  },
  {
   "cell_type": "code",
   "execution_count": 48,
   "metadata": {},
   "outputs": [
    {
     "data": {
      "text/plain": [
       "1437"
      ]
     },
     "execution_count": 48,
     "metadata": {},
     "output_type": "execute_result"
    }
   ],
   "source": [
    "len(EURGBP_data_tst)"
   ]
  },
  {
   "cell_type": "code",
   "execution_count": 49,
   "metadata": {},
   "outputs": [],
   "source": [
    "EURGBP_data_tst = EURGBP_data_tst[[\"close\",\"time_\"]]"
   ]
  },
  {
   "cell_type": "code",
   "execution_count": 51,
   "metadata": {},
   "outputs": [
    {
     "data": {
      "text/html": [
       "<div>\n",
       "<style scoped>\n",
       "    .dataframe tbody tr th:only-of-type {\n",
       "        vertical-align: middle;\n",
       "    }\n",
       "\n",
       "    .dataframe tbody tr th {\n",
       "        vertical-align: top;\n",
       "    }\n",
       "\n",
       "    .dataframe thead th {\n",
       "        text-align: right;\n",
       "    }\n",
       "</style>\n",
       "<table border=\"1\" class=\"dataframe\">\n",
       "  <thead>\n",
       "    <tr style=\"text-align: right;\">\n",
       "      <th></th>\n",
       "      <th>close</th>\n",
       "      <th>time_</th>\n",
       "    </tr>\n",
       "  </thead>\n",
       "  <tbody>\n",
       "    <tr>\n",
       "      <th>0</th>\n",
       "      <td>0.88625</td>\n",
       "      <td>0</td>\n",
       "    </tr>\n",
       "    <tr>\n",
       "      <th>1</th>\n",
       "      <td>0.88626</td>\n",
       "      <td>1</td>\n",
       "    </tr>\n",
       "    <tr>\n",
       "      <th>2</th>\n",
       "      <td>0.88634</td>\n",
       "      <td>2</td>\n",
       "    </tr>\n",
       "    <tr>\n",
       "      <th>3</th>\n",
       "      <td>0.88632</td>\n",
       "      <td>3</td>\n",
       "    </tr>\n",
       "    <tr>\n",
       "      <th>4</th>\n",
       "      <td>0.88634</td>\n",
       "      <td>4</td>\n",
       "    </tr>\n",
       "  </tbody>\n",
       "</table>\n",
       "</div>"
      ],
      "text/plain": [
       "     close  time_\n",
       "0  0.88625      0\n",
       "1  0.88626      1\n",
       "2  0.88634      2\n",
       "3  0.88632      3\n",
       "4  0.88634      4"
      ]
     },
     "execution_count": 51,
     "metadata": {},
     "output_type": "execute_result"
    }
   ],
   "source": [
    "EURGBP_data_tst.head()"
   ]
  },
  {
   "cell_type": "code",
   "execution_count": 52,
   "metadata": {},
   "outputs": [],
   "source": [
    "series = EURGBP_data_tst.close.to_numpy()"
   ]
  },
  {
   "cell_type": "code",
   "execution_count": 53,
   "metadata": {},
   "outputs": [
    {
     "data": {
      "text/plain": [
       "array([0.88625, 0.88626, 0.88634, ..., 0.89024, 0.89036, 0.89044])"
      ]
     },
     "execution_count": 53,
     "metadata": {},
     "output_type": "execute_result"
    }
   ],
   "source": [
    "series"
   ]
  },
  {
   "cell_type": "code",
   "execution_count": 54,
   "metadata": {},
   "outputs": [],
   "source": [
    "time = EURGBP_data_tst.time_.to_numpy()"
   ]
  },
  {
   "cell_type": "code",
   "execution_count": 55,
   "metadata": {},
   "outputs": [
    {
     "data": {
      "text/plain": [
       "array([   0,    1,    2, ..., 1434, 1435, 1436], dtype=int64)"
      ]
     },
     "execution_count": 55,
     "metadata": {},
     "output_type": "execute_result"
    }
   ],
   "source": [
    "time"
   ]
  },
  {
   "cell_type": "code",
   "execution_count": null,
   "metadata": {},
   "outputs": [],
   "source": []
  },
  {
   "cell_type": "code",
   "execution_count": 56,
   "metadata": {},
   "outputs": [],
   "source": [
    "split_time = 1000\n",
    "time_train = time[:split_time]\n",
    "x_train = series[:split_time]\n",
    "time_valid = time[split_time:]\n",
    "x_valid = series[split_time:]"
   ]
  },
  {
   "cell_type": "code",
   "execution_count": 57,
   "metadata": {},
   "outputs": [
    {
     "data": {
      "text/plain": [
       "(437, 437)"
      ]
     },
     "execution_count": 57,
     "metadata": {},
     "output_type": "execute_result"
    }
   ],
   "source": [
    "len(time_valid), len(x_valid)"
   ]
  },
  {
   "cell_type": "code",
   "execution_count": 58,
   "metadata": {},
   "outputs": [],
   "source": [
    "window_size = 20\n",
    "batch_size = 32\n",
    "shuffle_buffer_size = 1000"
   ]
  },
  {
   "cell_type": "code",
   "execution_count": 59,
   "metadata": {},
   "outputs": [],
   "source": [
    "def windowed_dataset(series, window_size, batch_size, shuffle_buffer):\n",
    "    dataset = tf.data.Dataset.from_tensor_slices(series)\n",
    "    dataset = dataset.window(window_size + 1, shift=1, drop_remainder=True)\n",
    "    dataset = dataset.flat_map(lambda window: window.batch(window_size + 1))\n",
    "    dataset = dataset.shuffle(shuffle_buffer).map(lambda window: (window[:-1], window[-1]))\n",
    "    dataset = dataset.batch(batch_size).prefetch(1)\n",
    "    return dataset"
   ]
  },
  {
   "cell_type": "code",
   "execution_count": 60,
   "metadata": {},
   "outputs": [],
   "source": [
    "def plot_series(time, series, format=\"-\", start=0, end=None):\n",
    "    plt.plot(time[start:end], series[start:end], format)\n",
    "    plt.xlabel(\"Time\")\n",
    "    plt.ylabel(\"Value\")\n",
    "    plt.grid(True)"
   ]
  },
  {
   "cell_type": "code",
   "execution_count": 61,
   "metadata": {},
   "outputs": [
    {
     "name": "stderr",
     "output_type": "stream",
     "text": [
      "WARNING: Logging before flag parsing goes to stderr.\n",
      "W1103 19:59:04.972911  3148 deprecation.py:323] From C:\\Users\\hero144\\.conda\\envs\\py36\\lib\\site-packages\\tensorflow\\python\\data\\util\\random_seed.py:58: add_dispatch_support.<locals>.wrapper (from tensorflow.python.ops.array_ops) is deprecated and will be removed in a future version.\n",
      "Instructions for updating:\n",
      "Use tf.where in 2.0, which has the same broadcast rule as np.where\n"
     ]
    },
    {
     "name": "stdout",
     "output_type": "stream",
     "text": [
      "Epoch 1/20\n",
      "49/49 [==============================] - 1s 26ms/step - loss: 4.3927 - mae: 4.8927\n",
      "Epoch 2/20\n",
      "49/49 [==============================] - 0s 9ms/step - loss: 4.0987 - mae: 4.5987A: 0s - loss: 4.2366 - mae: \n",
      "Epoch 3/20\n",
      "49/49 [==============================] - 0s 9ms/step - loss: 3.7544 - mae: 4.2544\n",
      "Epoch 4/20\n",
      "49/49 [==============================] - 0s 9ms/step - loss: 3.3639 - mae: 3.8639\n",
      "Epoch 5/20\n",
      "49/49 [==============================] - 0s 9ms/step - loss: 2.9216 - mae: 3.4216\n",
      "Epoch 6/20\n",
      "49/49 [==============================] - 0s 9ms/step - loss: 2.4215 - mae: 2.9215\n",
      "Epoch 7/20\n",
      "49/49 [==============================] - 0s 9ms/step - loss: 1.8575 - mae: 2.3575\n",
      "Epoch 8/20\n",
      "49/49 [==============================] - 0s 9ms/step - loss: 1.2240 - mae: 1.7240\n",
      "Epoch 9/20\n",
      "49/49 [==============================] - 0s 9ms/step - loss: 0.5295 - mae: 1.0201\n",
      "Epoch 10/20\n",
      "49/49 [==============================] - 0s 9ms/step - loss: 0.0986 - mae: 0.4260\n",
      "Epoch 11/20\n",
      "49/49 [==============================] - 0s 9ms/step - loss: 0.0118 - mae: 0.1447\n",
      "Epoch 12/20\n",
      "49/49 [==============================] - 0s 10ms/step - loss: 0.0011 - mae: 0.0413\n",
      "Epoch 13/20\n",
      "49/49 [==============================] - 0s 10ms/step - loss: 2.1199e-04 - mae: 0.0163\n",
      "Epoch 14/20\n",
      "49/49 [==============================] - 0s 9ms/step - loss: 1.5946e-04 - mae: 0.0154\n",
      "Epoch 15/20\n",
      "49/49 [==============================] - 0s 10ms/step - loss: 1.5741e-04 - mae: 0.0154\n",
      "Epoch 16/20\n",
      "49/49 [==============================] - 0s 9ms/step - loss: 1.5726e-04 - mae: 0.0154\n",
      "Epoch 17/20\n",
      "49/49 [==============================] - 0s 9ms/step - loss: 1.5725e-04 - mae: 0.0154\n",
      "Epoch 18/20\n",
      "49/49 [==============================] - 1s 10ms/step - loss: 1.5726e-04 - mae: 0.0154\n",
      "Epoch 19/20\n",
      "49/49 [==============================] - 0s 9ms/step - loss: 1.5727e-04 - mae: 0.0154\n",
      "Epoch 20/20\n",
      "49/49 [==============================] - 0s 9ms/step - loss: 1.5728e-04 - mae: 0.0154\n"
     ]
    }
   ],
   "source": [
    "tf.keras.backend.clear_session()\n",
    "tf.random.set_seed(51)\n",
    "np.random.seed(51)\n",
    "\n",
    "train_set = windowed_dataset(x_train, window_size, batch_size=20, shuffle_buffer=shuffle_buffer_size)\n",
    "\n",
    "model = tf.keras.models.Sequential([\n",
    "  tf.keras.layers.Lambda(lambda x: tf.expand_dims(x, axis=-1),\n",
    "                      input_shape=[None]),\n",
    "  tf.keras.layers.SimpleRNN(40, return_sequences=True),\n",
    "  tf.keras.layers.SimpleRNN(40),\n",
    "  tf.keras.layers.Dense(1),\n",
    "  tf.keras.layers.Lambda(lambda x: x * 10.0)\n",
    "])\n",
    "\n",
    "lr_schedule = tf.keras.callbacks.LearningRateScheduler(\n",
    "    lambda epoch: 1e-8 * 10**(epoch / 20))\n",
    "optimizer = tf.keras.optimizers.SGD(lr=1e-7, momentum=0.9)\n",
    "model.compile(loss=tf.keras.losses.Huber(),\n",
    "              optimizer=optimizer,\n",
    "              metrics=[\"mae\"])\n",
    "history = model.fit(train_set, epochs=20, callbacks=[lr_schedule])"
   ]
  },
  {
   "cell_type": "code",
   "execution_count": 62,
   "metadata": {},
   "outputs": [
    {
     "data": {
      "text/plain": [
       "[1e-08, 0.0001, 0, 30]"
      ]
     },
     "execution_count": 62,
     "metadata": {},
     "output_type": "execute_result"
    },
    {
     "data": {
      "image/png": "[encoded data removed]",
      "text/plain": [
       "<Figure size 432x288 with 1 Axes>"
      ]
     },
     "metadata": {
      "needs_background": "light"
     },
     "output_type": "display_data"
    }
   ],
   "source": [
    "plt.semilogx(history.history[\"lr\"], history.history[\"loss\"])\n",
    "plt.axis([1e-8, 1e-4, 0, 30])"
   ]
  },
  {
   "cell_type": "code",
   "execution_count": 63,
   "metadata": {},
   "outputs": [
    {
     "name": "stdout",
     "output_type": "stream",
     "text": [
      "Epoch 1/24\n",
      "49/49 [==============================] - 1s 25ms/step - loss: 48.8034 - mae: 49.3034\n",
      "Epoch 2/24\n",
      "49/49 [==============================] - 0s 9ms/step - loss: 47.0741 - mae: 47.5741A: 0s - loss: 47.8512 - mae: 4\n",
      "Epoch 3/24\n",
      "49/49 [==============================] - 0s 9ms/step - loss: 45.0903 - mae: 45.5904\n",
      "Epoch 4/24\n",
      "49/49 [==============================] - 0s 9ms/step - loss: 42.8392 - mae: 43.3392\n",
      "Epoch 5/24\n",
      "49/49 [==============================] - 0s 9ms/step - loss: 40.2178 - mae: 40.7178\n",
      "Epoch 6/24\n",
      "49/49 [==============================] - 0s 9ms/step - loss: 37.0966 - mae: 37.5966\n",
      "Epoch 7/24\n",
      "49/49 [==============================] - 0s 8ms/step - loss: 33.3729 - mae: 33.8729\n",
      "Epoch 8/24\n",
      "49/49 [==============================] - 0s 9ms/step - loss: 29.1067 - mae: 29.6067\n",
      "Epoch 9/24\n",
      "49/49 [==============================] - 0s 9ms/step - loss: 24.6094 - mae: 25.1094\n",
      "Epoch 10/24\n",
      "49/49 [==============================] - ETA: 0s - loss: 20.5085 - mae: 21.008 - 0s 9ms/step - loss: 20.2538 - mae: 20.7538\n",
      "Epoch 11/24\n",
      "49/49 [==============================] - 0s 9ms/step - loss: 16.2306 - mae: 16.7306\n",
      "Epoch 12/24\n",
      "49/49 [==============================] - 0s 9ms/step - loss: 12.5638 - mae: 13.0638\n",
      "Epoch 13/24\n",
      "49/49 [==============================] - 0s 9ms/step - loss: 9.2243 - mae: 9.7243ETA: 0s - loss: 10.5749 - mae:\n",
      "Epoch 14/24\n",
      "49/49 [==============================] - 0s 9ms/step - loss: 6.1838 - mae: 6.6838\n",
      "Epoch 15/24\n",
      "49/49 [==============================] - 0s 8ms/step - loss: 3.4212 - mae: 3.9212\n",
      "Epoch 16/24\n",
      "49/49 [==============================] - 0s 9ms/step - loss: 0.9529 - mae: 1.4261\n",
      "Epoch 17/24\n",
      "49/49 [==============================] - 0s 9ms/step - loss: 0.0082 - mae: 0.0956\n",
      "Epoch 18/24\n",
      "49/49 [==============================] - 0s 9ms/step - loss: 0.0019 - mae: 0.0539\n",
      "Epoch 19/24\n",
      "49/49 [==============================] - 0s 9ms/step - loss: 0.0018 - mae: 0.0525\n",
      "Epoch 20/24\n",
      "49/49 [==============================] - 0s 9ms/step - loss: 0.0018 - mae: 0.0525\n",
      "Epoch 21/24\n",
      "49/49 [==============================] - 0s 8ms/step - loss: 0.0018 - mae: 0.0525\n",
      "Epoch 22/24\n",
      "49/49 [==============================] - 0s 9ms/step - loss: 0.0018 - mae: 0.0525\n",
      "Epoch 23/24\n",
      "49/49 [==============================] - 0s 9ms/step - loss: 0.0018 - mae: 0.0525\n",
      "Epoch 24/24\n",
      "49/49 [==============================] - 0s 10ms/step - loss: 0.0018 - mae: 0.0525\n"
     ]
    }
   ],
   "source": [
    "tf.keras.backend.clear_session()\n",
    "tf.random.set_seed(51)\n",
    "np.random.seed(51)\n",
    "\n",
    "dataset = windowed_dataset(x_train, window_size, batch_size=20, shuffle_buffer=shuffle_buffer_size)\n",
    "\n",
    "model = tf.keras.models.Sequential([\n",
    "  tf.keras.layers.Lambda(lambda x: tf.expand_dims(x, axis=-1),\n",
    "                      input_shape=[None]),\n",
    "  tf.keras.layers.SimpleRNN(20, return_sequences=True),\n",
    "  tf.keras.layers.SimpleRNN(20),\n",
    "  tf.keras.layers.Dense(1),\n",
    "  tf.keras.layers.Lambda(lambda x: x * 50.0)\n",
    "])\n",
    "\n",
    "optimizer = tf.keras.optimizers.SGD(lr=5e-8, momentum=0.9)\n",
    "model.compile(loss=tf.keras.losses.Huber(),\n",
    "              optimizer=optimizer,\n",
    "              metrics=[\"mae\"])\n",
    "history = model.fit(dataset,epochs=24)"
   ]
  },
  {
   "cell_type": "code",
   "execution_count": 64,
   "metadata": {},
   "outputs": [
    {
     "data": {
      "image/png": "[encoded data removed]",
      "text/plain": [
       "<Figure size 720x432 with 1 Axes>"
      ]
     },
     "metadata": {
      "needs_background": "light"
     },
     "output_type": "display_data"
    }
   ],
   "source": [
    "forecast=[]\n",
    "for time in range(len(series) - window_size):\n",
    "  forecast.append(model.predict(series[time:time + window_size][np.newaxis]))\n",
    "\n",
    "forecast = forecast[split_time-window_size:]\n",
    "results = np.array(forecast)[:, 0, 0]\n",
    "\n",
    "\n",
    "plt.figure(figsize=(10, 6))\n",
    "\n",
    "plot_series(time_valid, x_valid)\n",
    "plot_series(time_valid, results)"
   ]
  },
  {
   "cell_type": "code",
   "execution_count": 65,
   "metadata": {},
   "outputs": [
    {
     "data": {
      "image/png": "[encoded data removed]",
      "text/plain": [
       "<Figure size 432x288 with 1 Axes>"
      ]
     },
     "metadata": {
      "needs_background": "light"
     },
     "output_type": "display_data"
    }
   ],
   "source": [
    "\n",
    "plot_series(time_valid, results)"
   ]
  },
  {
   "cell_type": "code",
   "execution_count": 66,
   "metadata": {},
   "outputs": [
    {
     "data": {
      "image/png": "[encoded data removed]",
      "text/plain": [
       "<Figure size 432x288 with 1 Axes>"
      ]
     },
     "metadata": {
      "needs_background": "light"
     },
     "output_type": "display_data"
    }
   ],
   "source": [
    "plot_series(time_valid, x_valid)"
   ]
  },
  {
   "cell_type": "code",
   "execution_count": 67,
   "metadata": {},
   "outputs": [
    {
     "data": {
      "text/plain": [
       "array([0.88854, 0.88838, 0.88835, 0.88817, 0.88828, 0.88846, 0.88843,\n",
       "       0.88842, 0.88852, 0.88854, 0.88851, 0.88852, 0.88848, 0.88844,\n",
       "       0.88844, 0.88844, 0.88836, 0.88834, 0.88828, 0.88811, 0.88816,\n",
       "       0.88842, 0.88824, 0.8883 , 0.88835, 0.88833, 0.88833, 0.88816,\n",
       "       0.8884 , 0.88827, 0.88841, 0.88823, 0.8884 , 0.88826, 0.88826,\n",
       "       0.88842, 0.88859, 0.88825, 0.88835, 0.88896, 0.88889, 0.88861,\n",
       "       0.88859, 0.88864, 0.88863, 0.88887, 0.88886, 0.88897, 0.88908,\n",
       "       0.88889, 0.88898, 0.88886, 0.88886, 0.88891, 0.88906, 0.88899,\n",
       "       0.88939, 0.88905, 0.88922, 0.88914, 0.88921, 0.889  , 0.88906,\n",
       "       0.88912, 0.88909, 0.889  , 0.88921, 0.88905, 0.88916, 0.88915,\n",
       "       0.88903, 0.88904, 0.88903, 0.88895, 0.88903, 0.88906, 0.88915,\n",
       "       0.88924, 0.88948, 0.88943, 0.88942, 0.88942, 0.88953, 0.88945,\n",
       "       0.88943, 0.88933, 0.88934, 0.88931, 0.8893 , 0.88927, 0.88916,\n",
       "       0.88911, 0.88908, 0.8892 , 0.88923, 0.88916, 0.88927, 0.88928,\n",
       "       0.88922, 0.88924, 0.8892 , 0.88921, 0.88921, 0.88921, 0.88924,\n",
       "       0.88933, 0.88936, 0.88935, 0.88948, 0.88949, 0.88948, 0.88946,\n",
       "       0.88939, 0.88948, 0.88957, 0.88958, 0.88958, 0.88958, 0.88957,\n",
       "       0.88956, 0.88953, 0.88961, 0.88966, 0.88965, 0.88966, 0.88964,\n",
       "       0.88964, 0.88959, 0.88963, 0.88966, 0.88962, 0.88962, 0.88973,\n",
       "       0.88982, 0.88974, 0.88972, 0.88966, 0.88965, 0.8896 , 0.88959,\n",
       "       0.88959, 0.88959, 0.88953, 0.88948, 0.88944, 0.88947, 0.88949,\n",
       "       0.88946, 0.88944, 0.88932, 0.88934, 0.88934, 0.88931, 0.88928,\n",
       "       0.88929, 0.88928, 0.88928, 0.88928, 0.88929, 0.88928, 0.88945,\n",
       "       0.88947, 0.88947, 0.88942, 0.8895 , 0.88946, 0.88945, 0.88946,\n",
       "       0.88951, 0.8895 , 0.88944, 0.88944, 0.88947, 0.88949, 0.88949,\n",
       "       0.88952, 0.8895 , 0.88951, 0.88951, 0.88951, 0.8895 , 0.88942,\n",
       "       0.88944, 0.88947, 0.8895 , 0.88953, 0.88964, 0.88965, 0.8896 ,\n",
       "       0.88963, 0.88956, 0.8895 , 0.88957, 0.88956, 0.88951, 0.88952,\n",
       "       0.8895 , 0.8895 , 0.88951, 0.88949, 0.88943, 0.88942, 0.88941,\n",
       "       0.88942, 0.88932, 0.88928, 0.88929, 0.88933, 0.88936, 0.88941,\n",
       "       0.88943, 0.88942, 0.88949, 0.88953, 0.88954, 0.88951, 0.8895 ,\n",
       "       0.8895 , 0.88955, 0.88955, 0.8896 , 0.88957, 0.88957, 0.88949,\n",
       "       0.8894 , 0.88933, 0.88937, 0.88941, 0.88945, 0.88954, 0.8895 ,\n",
       "       0.8895 , 0.88949, 0.88956, 0.88957, 0.88957, 0.88954, 0.88954,\n",
       "       0.88954, 0.88954, 0.88949, 0.88953, 0.88945, 0.88946, 0.88948,\n",
       "       0.88949, 0.88954, 0.88952, 0.88952, 0.88952, 0.88954, 0.88954,\n",
       "       0.88963, 0.88967, 0.88967, 0.88966, 0.88965, 0.88962, 0.88956,\n",
       "       0.88954, 0.8895 , 0.88954, 0.88955, 0.8895 , 0.88948, 0.88947,\n",
       "       0.88946, 0.88945, 0.88948, 0.88951, 0.88948, 0.88948, 0.88944,\n",
       "       0.88947, 0.88945, 0.88946, 0.88947, 0.88948, 0.88942, 0.88945,\n",
       "       0.88945, 0.88947, 0.88947, 0.88947, 0.88952, 0.88956, 0.88954,\n",
       "       0.8896 , 0.88959, 0.88949, 0.88951, 0.88939, 0.88939, 0.88938,\n",
       "       0.88943, 0.88944, 0.88948, 0.88949, 0.88949, 0.88948, 0.88945,\n",
       "       0.88947, 0.88945, 0.88947, 0.88946, 0.88943, 0.88944, 0.88944,\n",
       "       0.8894 , 0.88943, 0.8894 , 0.88938, 0.8894 , 0.8894 , 0.88937,\n",
       "       0.88938, 0.88935, 0.88939, 0.88938, 0.88944, 0.88943, 0.8894 ,\n",
       "       0.88955, 0.88953, 0.88955, 0.88956, 0.8896 , 0.88961, 0.88963,\n",
       "       0.88962, 0.88961, 0.88961, 0.88959, 0.8896 , 0.88961, 0.88971,\n",
       "       0.88972, 0.88968, 0.8897 , 0.88969, 0.88971, 0.88972, 0.8897 ,\n",
       "       0.88967, 0.88968, 0.88971, 0.88971, 0.88969, 0.88967, 0.8897 ,\n",
       "       0.8898 , 0.88983, 0.8898 , 0.88982, 0.88989, 0.88982, 0.88981,\n",
       "       0.8898 , 0.88978, 0.8898 , 0.88982, 0.8898 , 0.88979, 0.88977,\n",
       "       0.88974, 0.88997, 0.88991, 0.88997, 0.88999, 0.88997, 0.89002,\n",
       "       0.88995, 0.88989, 0.89   , 0.89002, 0.89003, 0.89014, 0.89016,\n",
       "       0.89013, 0.89014, 0.89013, 0.89013, 0.89008, 0.8901 , 0.89011,\n",
       "       0.89009, 0.89002, 0.89004, 0.88997, 0.88999, 0.88999, 0.88998,\n",
       "       0.89001, 0.88999, 0.89   , 0.89002, 0.89003, 0.89008, 0.89007,\n",
       "       0.89008, 0.89008, 0.89013, 0.89   , 0.89004, 0.89004, 0.89007,\n",
       "       0.89009, 0.89005, 0.89003, 0.89003, 0.89007, 0.89006, 0.8901 ,\n",
       "       0.89008, 0.89008, 0.89004, 0.89003, 0.89004, 0.89005, 0.89006,\n",
       "       0.89   , 0.89002, 0.89004, 0.89004, 0.89005, 0.89001, 0.8901 ,\n",
       "       0.89007, 0.89005, 0.89006, 0.89008, 0.89016, 0.89018, 0.89016,\n",
       "       0.89024, 0.89036, 0.89044])"
      ]
     },
     "execution_count": 67,
     "metadata": {},
     "output_type": "execute_result"
    }
   ],
   "source": [
    "x_valid"
   ]
  },
  {
   "cell_type": "code",
   "execution_count": 68,
   "metadata": {},
   "outputs": [],
   "source": [
    "results = -results"
   ]
  },
  {
   "cell_type": "code",
   "execution_count": 69,
   "metadata": {},
   "outputs": [
    {
     "data": {
      "text/plain": [
       "array([-0.88354665, -0.88340807, -0.88501817, -0.88350886, -0.88771415,\n",
       "       -0.8881163 , -0.88958406, -0.89603734, -0.8954401 , -0.8914005 ,\n",
       "       -0.8929937 , -0.89067316, -0.8897597 , -0.8901465 , -0.88663965,\n",
       "       -0.88680935, -0.88804376, -0.88862216, -0.888739  , -0.889698  ,\n",
       "       -0.8914391 , -0.8905444 , -0.89109206, -0.89932626, -0.8960442 ,\n",
       "       -0.8939014 , -0.89564025, -0.8928766 , -0.895082  , -0.8920962 ,\n",
       "       -0.89235324, -0.8931877 , -0.89450216, -0.89033425, -0.8940559 ,\n",
       "       -0.89097804, -0.891412  , -0.89098626, -0.8971378 , -0.88925326,\n",
       "       -0.88352036, -0.89310503, -0.89209324, -0.88335115, -0.88032484,\n",
       "       -0.8783145 , -0.8796498 , -0.88794625, -0.8809328 , -0.8774854 ,\n",
       "       -0.8810401 , -0.87468696, -0.8757997 , -0.8774167 , -0.8733524 ,\n",
       "       -0.87548995, -0.87917495, -0.87191164, -0.88197386, -0.8719189 ,\n",
       "       -0.86927825, -0.872293  , -0.87200904, -0.8686846 , -0.87291336,\n",
       "       -0.87025166, -0.87480545, -0.87143725, -0.8745205 , -0.8732703 ,\n",
       "       -0.8723254 , -0.87593645, -0.8721365 , -0.8720105 , -0.87650007,\n",
       "       -0.8720938 , -0.8752089 , -0.8763406 , -0.8732388 , -0.87410176,\n",
       "       -0.87404066, -0.870328  , -0.8675734 , -0.86332697, -0.86485374,\n",
       "       -0.86380017, -0.86339927, -0.861568  , -0.86253023, -0.8647541 ,\n",
       "       -0.8667333 , -0.86798584, -0.86823535, -0.8689443 , -0.8703053 ,\n",
       "       -0.8734625 , -0.8752965 , -0.87242424, -0.87159926, -0.87276137,\n",
       "       -0.87022686, -0.8710893 , -0.86990297, -0.86838806, -0.8707719 ,\n",
       "       -0.8698537 , -0.86885786, -0.8709149 , -0.8693311 , -0.86710733,\n",
       "       -0.8678035 , -0.86650777, -0.8650748 , -0.86452997, -0.8617679 ,\n",
       "       -0.86207837, -0.86484385, -0.8630334 , -0.86180854, -0.86142004,\n",
       "       -0.85988027, -0.861538  , -0.8606192 , -0.8604847 , -0.8620858 ,\n",
       "       -0.8604593 , -0.8600743 , -0.8598589 , -0.8591486 , -0.8591325 ,\n",
       "       -0.85935456, -0.86024386, -0.860292  , -0.85853523, -0.8595232 ,\n",
       "       -0.8608212 , -0.85871553, -0.857586  , -0.8562691 , -0.85725534,\n",
       "       -0.858799  , -0.8593818 , -0.8594445 , -0.8612834 , -0.86129534,\n",
       "       -0.8619355 , -0.862398  , -0.8636364 , -0.8654356 , -0.86520797,\n",
       "       -0.8658382 , -0.8647614 , -0.8653382 , -0.8676162 , -0.8680623 ,\n",
       "       -0.8676268 , -0.8688223 , -0.8683152 , -0.86964387, -0.86986125,\n",
       "       -0.86925596, -0.8677108 , -0.86924696, -0.8689649 , -0.8671144 ,\n",
       "       -0.8641642 , -0.8644369 , -0.8635769 , -0.863773  , -0.8629085 ,\n",
       "       -0.86334914, -0.86371565, -0.86312985, -0.8627297 , -0.8635698 ,\n",
       "       -0.8643804 , -0.8640198 , -0.8642803 , -0.8632686 , -0.86343753,\n",
       "       -0.8634677 , -0.86309856, -0.8636538 , -0.8627424 , -0.862556  ,\n",
       "       -0.86419433, -0.8645458 , -0.86353815, -0.8642174 , -0.8629506 ,\n",
       "       -0.8609079 , -0.8612027 , -0.8604013 , -0.858845  , -0.8613368 ,\n",
       "       -0.8621035 , -0.86083364, -0.862534  , -0.8620862 , -0.8622444 ,\n",
       "       -0.8643588 , -0.86398375, -0.8633339 , -0.8643913 , -0.8644836 ,\n",
       "       -0.8666678 , -0.86626226, -0.86549354, -0.8668542 , -0.8682782 ,\n",
       "       -0.8686907 , -0.8691912 , -0.8677236 , -0.8658661 , -0.8659685 ,\n",
       "       -0.8655498 , -0.8645568 , -0.86303484, -0.8618356 , -0.86116457,\n",
       "       -0.86269903, -0.86208653, -0.86215085, -0.8612983 , -0.86139774,\n",
       "       -0.861842  , -0.8620809 , -0.86193764, -0.8644796 , -0.86596364,\n",
       "       -0.86628646, -0.86745304, -0.8655234 , -0.86415505, -0.8635029 ,\n",
       "       -0.8637117 , -0.863417  , -0.8631126 , -0.86104536, -0.8611597 ,\n",
       "       -0.8614103 , -0.8622756 , -0.8613355 , -0.86252874, -0.8623002 ,\n",
       "       -0.8626626 , -0.86423886, -0.8641167 , -0.86437535, -0.86443293,\n",
       "       -0.86274606, -0.863003  , -0.8634531 , -0.8616319 , -0.8627344 ,\n",
       "       -0.8619502 , -0.8606324 , -0.85982496, -0.85904115, -0.8590147 ,\n",
       "       -0.8592573 , -0.85964465, -0.85994023, -0.8615671 , -0.86318755,\n",
       "       -0.86291546, -0.86267793, -0.8635737 , -0.8638839 , -0.8644955 ,\n",
       "       -0.86489487, -0.8651096 , -0.86464435, -0.86434764, -0.86362046,\n",
       "       -0.8642276 , -0.8643344 , -0.86430013, -0.8641904 , -0.8650841 ,\n",
       "       -0.86370224, -0.8643869 , -0.8645631 , -0.86457694, -0.86490077,\n",
       "       -0.86393255, -0.8635737 , -0.8647129 , -0.86265635, -0.8625878 ,\n",
       "       -0.8630643 , -0.8602447 , -0.8623414 , -0.8620153 , -0.8621244 ,\n",
       "       -0.8646324 , -0.86550266, -0.8652243 , -0.8668721 , -0.8650983 ,\n",
       "       -0.8651995 , -0.86498475, -0.8636637 , -0.86440134, -0.8639505 ,\n",
       "       -0.8640846 , -0.86457825, -0.863787  , -0.86388624, -0.86522   ,\n",
       "       -0.8641089 , -0.8654328 , -0.86582994, -0.864923  , -0.86622155,\n",
       "       -0.866686  , -0.86569023, -0.86690414, -0.8658412 , -0.86650735,\n",
       "       -0.866783  , -0.8666644 , -0.8666828 , -0.8642394 , -0.8654468 ,\n",
       "       -0.86542106, -0.8630481 , -0.86255187, -0.8618001 , -0.8603493 ,\n",
       "       -0.86177427, -0.859744  , -0.8593137 , -0.85989404, -0.8592317 ,\n",
       "       -0.8600517 , -0.8595824 , -0.8604521 , -0.8608736 , -0.8587254 ,\n",
       "       -0.858387  , -0.8584167 , -0.857847  , -0.85892195, -0.8582036 ,\n",
       "       -0.85706294, -0.85791487, -0.85830754, -0.8588986 , -0.8587611 ,\n",
       "       -0.85760856, -0.8574225 , -0.8588828 , -0.85918456, -0.8569929 ,\n",
       "       -0.85508156, -0.85604376, -0.8549098 , -0.854597  , -0.85470265,\n",
       "       -0.85390955, -0.8549016 , -0.8563658 , -0.8553853 , -0.85590684,\n",
       "       -0.8561285 , -0.85339344, -0.8580117 , -0.8565359 , -0.85386914,\n",
       "       -0.85398453, -0.8511629 , -0.85138214, -0.8530473 , -0.8478989 ,\n",
       "       -0.85081327, -0.8522777 , -0.84901565, -0.85177284, -0.84995824,\n",
       "       -0.84715486, -0.8484937 , -0.8465787 , -0.84708834, -0.8476807 ,\n",
       "       -0.846461  , -0.84787506, -0.84885263, -0.84744763, -0.84948105,\n",
       "       -0.84897333, -0.85012776, -0.85199213, -0.8512434 , -0.8518775 ,\n",
       "       -0.8523861 , -0.85100394, -0.8517839 , -0.85117483, -0.8507768 ,\n",
       "       -0.850786  , -0.849244  , -0.84874296, -0.8504134 , -0.8476133 ,\n",
       "       -0.848289  , -0.84900355, -0.8491185 , -0.8503513 , -0.8500063 ,\n",
       "       -0.8482271 , -0.84946454, -0.8502162 , -0.8496354 , -0.8505727 ,\n",
       "       -0.8491107 , -0.8492415 , -0.8490883 , -0.84894204, -0.8494122 ,\n",
       "       -0.84990996, -0.8501869 , -0.849636  , -0.84959817, -0.8505367 ,\n",
       "       -0.8506199 , -0.8507414 , -0.84943974, -0.8501122 , -0.85067284,\n",
       "       -0.84939116, -0.8490705 , -0.8488334 , -0.8486936 , -0.8497551 ,\n",
       "       -0.8467883 , -0.8455008 ], dtype=float32)"
      ]
     },
     "execution_count": 69,
     "metadata": {},
     "output_type": "execute_result"
    }
   ],
   "source": [
    "results"
   ]
  },
  {
   "cell_type": "code",
   "execution_count": 70,
   "metadata": {},
   "outputs": [
    {
     "data": {
      "image/png": "[encoded data removed]",
      "text/plain": [
       "<Figure size 432x288 with 1 Axes>"
      ]
     },
     "metadata": {
      "needs_background": "light"
     },
     "output_type": "display_data"
    }
   ],
   "source": [
    "plot_series(time_valid, results)"
   ]
  },
  {
   "cell_type": "code",
   "execution_count": 71,
   "metadata": {},
   "outputs": [
    {
     "data": {
      "text/plain": [
       "[<matplotlib.lines.Line2D at 0x197421c5080>]"
      ]
     },
     "execution_count": 71,
     "metadata": {},
     "output_type": "execute_result"
    },
    {
     "data": {
      "image/png": "[encoded data removed]",
      "text/plain": [
       "<Figure size 720x720 with 2 Axes>"
      ]
     },
     "metadata": {
      "needs_background": "light"
     },
     "output_type": "display_data"
    }
   ],
   "source": [
    "\n",
    "fig, axs = plt.subplots(2,figsize=(10,10))\n",
    "axs[0].plot(time_valid, x_valid)\n",
    "axs[1].plot(time_valid, results)"
   ]
  },
  {
   "cell_type": "code",
   "execution_count": null,
   "metadata": {},
   "outputs": [],
   "source": []
  }
 ],
 "metadata": {
  "kernelspec": {
   "display_name": "Python 3 (ipykernel)",
   "language": "python",
   "name": "python3"
  },
  "language_info": {
   "codemirror_mode": {
    "name": "ipython",
    "version": 3
   },
   "file_extension": ".py",
   "mimetype": "text/x-python",
   "name": "python",
   "nbconvert_exporter": "python",
   "pygments_lexer": "ipython3",
   "version": "3.9.17"
  }
 },
 "nbformat": 4,
 "nbformat_minor": 4
}
